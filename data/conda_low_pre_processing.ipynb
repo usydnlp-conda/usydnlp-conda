{
  "nbformat": 4,
  "nbformat_minor": 0,
  "metadata": {
    "colab": {
      "name": "conda_low_pre-processing.ipynb",
      "provenance": [],
      "collapsed_sections": []
    },
    "kernelspec": {
      "name": "python3",
      "display_name": "Python 3"
    },
    "language_info": {
      "name": "python"
    }
  },
  "cells": [
    {
      "cell_type": "markdown",
      "metadata": {
        "id": "0hePydGmQFqV"
      },
      "source": [
        "##CONDA"
      ]
    },
    {
      "cell_type": "code",
      "metadata": {
        "colab": {
          "base_uri": "https://localhost:8080/"
        },
        "id": "NoDKL1OIQILr",
        "outputId": "3b148d8b-5c64-4705-895f-f14dfc60f8d0"
      },
      "source": [
        "# download the CONDA dataset\n",
        "!mkdir datasets\n",
        "!mkdir datasets/conda\n",
        "!wget -P datasets/conda/ -c 'https://raw.githubusercontent.com/usydnlp/CONDA/main/data/CONDA_train.csv'\n",
        "!wget -P datasets/conda/ -c 'https://raw.githubusercontent.com/usydnlp/CONDA/main/data/CONDA_valid.csv'\n",
        "!wget -P datasets/conda/ -c 'https://raw.githubusercontent.com/usydnlp/CONDA/main/data/CONDA_test.csv'"
      ],
      "execution_count": 1,
      "outputs": [
        {
          "output_type": "stream",
          "text": [
            "--2021-08-24 22:12:37--  https://raw.githubusercontent.com/usydnlp/CONDA/main/data/CONDA_train.csv\n",
            "Resolving raw.githubusercontent.com (raw.githubusercontent.com)... 185.199.111.133, 185.199.108.133, 185.199.110.133, ...\n",
            "Connecting to raw.githubusercontent.com (raw.githubusercontent.com)|185.199.111.133|:443... connected.\n",
            "HTTP request sent, awaiting response... 200 OK\n",
            "Length: 2856782 (2.7M) [text/plain]\n",
            "Saving to: ‘datasets/conda/CONDA_train.csv’\n",
            "\n",
            "\rCONDA_train.csv       0%[                    ]       0  --.-KB/s               \rCONDA_train.csv     100%[===================>]   2.72M  --.-KB/s    in 0.02s   \n",
            "\n",
            "2021-08-24 22:12:38 (145 MB/s) - ‘datasets/conda/CONDA_train.csv’ saved [2856782/2856782]\n",
            "\n",
            "--2021-08-24 22:12:38--  https://raw.githubusercontent.com/usydnlp/CONDA/main/data/CONDA_valid.csv\n",
            "Resolving raw.githubusercontent.com (raw.githubusercontent.com)... 185.199.108.133, 185.199.109.133, 185.199.110.133, ...\n",
            "Connecting to raw.githubusercontent.com (raw.githubusercontent.com)|185.199.108.133|:443... connected.\n",
            "HTTP request sent, awaiting response... 200 OK\n",
            "Length: 956223 (934K) [text/plain]\n",
            "Saving to: ‘datasets/conda/CONDA_valid.csv’\n",
            "\n",
            "CONDA_valid.csv     100%[===================>] 933.81K  --.-KB/s    in 0.008s  \n",
            "\n",
            "2021-08-24 22:12:38 (111 MB/s) - ‘datasets/conda/CONDA_valid.csv’ saved [956223/956223]\n",
            "\n",
            "--2021-08-24 22:12:38--  https://raw.githubusercontent.com/usydnlp/CONDA/main/data/CONDA_test.csv\n",
            "Resolving raw.githubusercontent.com (raw.githubusercontent.com)... 185.199.108.133, 185.199.109.133, 185.199.110.133, ...\n",
            "Connecting to raw.githubusercontent.com (raw.githubusercontent.com)|185.199.108.133|:443... connected.\n",
            "HTTP request sent, awaiting response... 200 OK\n",
            "Length: 484537 (473K) [text/plain]\n",
            "Saving to: ‘datasets/conda/CONDA_test.csv’\n",
            "\n",
            "CONDA_test.csv      100%[===================>] 473.18K  --.-KB/s    in 0.006s  \n",
            "\n",
            "2021-08-24 22:12:38 (78.7 MB/s) - ‘datasets/conda/CONDA_test.csv’ saved [484537/484537]\n",
            "\n"
          ],
          "name": "stdout"
        }
      ]
    },
    {
      "cell_type": "code",
      "metadata": {
        "colab": {
          "base_uri": "https://localhost:8080/",
          "height": 272
        },
        "id": "uJvgskPFQIOG",
        "outputId": "dde9ffa4-fc72-46b2-9fdd-f786cc543780"
      },
      "source": [
        "import pandas as pd\n",
        "\n",
        "# import the dataset into pandas dataframe\n",
        "conda_train = pd.read_csv('datasets/conda/CONDA_train.csv')\n",
        "conda_val = pd.read_csv('datasets/conda/CONDA_valid.csv')\n",
        "conda_test = pd.read_csv('datasets/conda/CONDA_test.csv')\n",
        "conda_train.head(6)"
      ],
      "execution_count": 2,
      "outputs": [
        {
          "output_type": "execute_result",
          "data": {
            "text/html": [
              "<div>\n",
              "<style scoped>\n",
              "    .dataframe tbody tr th:only-of-type {\n",
              "        vertical-align: middle;\n",
              "    }\n",
              "\n",
              "    .dataframe tbody tr th {\n",
              "        vertical-align: top;\n",
              "    }\n",
              "\n",
              "    .dataframe thead th {\n",
              "        text-align: right;\n",
              "    }\n",
              "</style>\n",
              "<table border=\"1\" class=\"dataframe\">\n",
              "  <thead>\n",
              "    <tr style=\"text-align: right;\">\n",
              "      <th></th>\n",
              "      <th>Id</th>\n",
              "      <th>matchId</th>\n",
              "      <th>conversationId</th>\n",
              "      <th>utterance</th>\n",
              "      <th>chatTime</th>\n",
              "      <th>playerSlot</th>\n",
              "      <th>playerId</th>\n",
              "      <th>intentClass</th>\n",
              "      <th>slotClasses</th>\n",
              "      <th>slotTokens</th>\n",
              "    </tr>\n",
              "  </thead>\n",
              "  <tbody>\n",
              "    <tr>\n",
              "      <th>0</th>\n",
              "      <td>11263</td>\n",
              "      <td>697</td>\n",
              "      <td>3193</td>\n",
              "      <td>wow!</td>\n",
              "      <td>76</td>\n",
              "      <td>0</td>\n",
              "      <td>ANTS IN MY EYES JOHNSON</td>\n",
              "      <td>O</td>\n",
              "      <td>O</td>\n",
              "      <td>wow (O),</td>\n",
              "    </tr>\n",
              "    <tr>\n",
              "      <th>1</th>\n",
              "      <td>13741</td>\n",
              "      <td>843</td>\n",
              "      <td>3809</td>\n",
              "      <td>WTF</td>\n",
              "      <td>1563</td>\n",
              "      <td>5</td>\n",
              "      <td>M.k</td>\n",
              "      <td>O</td>\n",
              "      <td>T</td>\n",
              "      <td>WTF (T),</td>\n",
              "    </tr>\n",
              "    <tr>\n",
              "      <th>2</th>\n",
              "      <td>22125</td>\n",
              "      <td>1412</td>\n",
              "      <td>6199</td>\n",
              "      <td>wpe wpe</td>\n",
              "      <td>2853</td>\n",
              "      <td>1</td>\n",
              "      <td>Acqua Ragia</td>\n",
              "      <td>O</td>\n",
              "      <td>O O</td>\n",
              "      <td>wpe (O), wpe (O),</td>\n",
              "    </tr>\n",
              "    <tr>\n",
              "      <th>3</th>\n",
              "      <td>6453</td>\n",
              "      <td>439</td>\n",
              "      <td>1875</td>\n",
              "      <td>hahaha</td>\n",
              "      <td>1038</td>\n",
              "      <td>0</td>\n",
              "      <td>juicebox</td>\n",
              "      <td>O</td>\n",
              "      <td>O</td>\n",
              "      <td>hahaha (O),</td>\n",
              "    </tr>\n",
              "    <tr>\n",
              "      <th>4</th>\n",
              "      <td>9644</td>\n",
              "      <td>601</td>\n",
              "      <td>2713</td>\n",
              "      <td>wtf</td>\n",
              "      <td>1661</td>\n",
              "      <td>5</td>\n",
              "      <td>KAIST.Shadows</td>\n",
              "      <td>O</td>\n",
              "      <td>T</td>\n",
              "      <td>wtf (T),</td>\n",
              "    </tr>\n",
              "    <tr>\n",
              "      <th>5</th>\n",
              "      <td>6208</td>\n",
              "      <td>433</td>\n",
              "      <td>1836</td>\n",
              "      <td>i cant [SEPA] play  [SEPA] with 4 trash</td>\n",
              "      <td>1674</td>\n",
              "      <td>6</td>\n",
              "      <td>Vintage &lt;3</td>\n",
              "      <td>E</td>\n",
              "      <td>P O SEPA O SEPA O O O</td>\n",
              "      <td>i (P), cant (O), [SEPA] (SEPA), play (O), [SEP...</td>\n",
              "    </tr>\n",
              "  </tbody>\n",
              "</table>\n",
              "</div>"
            ],
            "text/plain": [
              "      Id  ...                                         slotTokens\n",
              "0  11263  ...                                          wow (O), \n",
              "1  13741  ...                                          WTF (T), \n",
              "2  22125  ...                                 wpe (O), wpe (O), \n",
              "3   6453  ...                                       hahaha (O), \n",
              "4   9644  ...                                          wtf (T), \n",
              "5   6208  ...  i (P), cant (O), [SEPA] (SEPA), play (O), [SEP...\n",
              "\n",
              "[6 rows x 10 columns]"
            ]
          },
          "metadata": {
            "tags": []
          },
          "execution_count": 2
        }
      ]
    },
    {
      "cell_type": "code",
      "metadata": {
        "colab": {
          "base_uri": "https://localhost:8080/"
        },
        "id": "IAQQeEyKbfRY",
        "outputId": "f9760eb8-c0d9-4d0c-c362-59d9eba71f49"
      },
      "source": [
        "# check for any null items\n",
        "print(\"train set:\")\n",
        "print(conda_train.isnull().sum())\n",
        "print(\"\\nval set:\")\n",
        "print(conda_val.isnull().sum())\n",
        "print(\"\\ntest set:\")\n",
        "print(conda_test.isnull().sum())"
      ],
      "execution_count": 3,
      "outputs": [
        {
          "output_type": "stream",
          "text": [
            "train set:\n",
            "Id                  0\n",
            "matchId             0\n",
            "conversationId      0\n",
            "utterance           7\n",
            "chatTime            0\n",
            "playerSlot          0\n",
            "playerId            8\n",
            "intentClass         0\n",
            "slotClasses       834\n",
            "slotTokens        834\n",
            "dtype: int64\n",
            "\n",
            "val set:\n",
            "Id                  0\n",
            "matchId             0\n",
            "conversationId      0\n",
            "utterance           1\n",
            "chatTime            0\n",
            "playerSlot          0\n",
            "playerId            1\n",
            "intentClass         0\n",
            "slotClasses       268\n",
            "slotTokens        268\n",
            "dtype: int64\n",
            "\n",
            "test set:\n",
            "Id                0\n",
            "matchId           0\n",
            "conversationId    0\n",
            "utterance         1\n",
            "chatTime          0\n",
            "playerSlot        0\n",
            "playerId          3\n",
            "dtype: int64\n"
          ],
          "name": "stdout"
        }
      ]
    },
    {
      "cell_type": "code",
      "metadata": {
        "id": "KNSSik0VbSy0"
      },
      "source": [
        "# remove rows with nan values\n",
        "conda_train.dropna(inplace=True)\n",
        "conda_val.dropna(inplace=True)\n",
        "conda_test.dropna(inplace=True)"
      ],
      "execution_count": 4,
      "outputs": []
    },
    {
      "cell_type": "code",
      "metadata": {
        "id": "5f-jbZpxjbVn"
      },
      "source": [
        "# create a function to convert the conda dataset into jointBERT input\n",
        "def create_input_file(data, column, file_name):\n",
        "    # create a list of the slot text and tokens\n",
        "    texts = list(data[column])\n",
        "\n",
        "    # create a list of slot labels\n",
        "    slot_label = ['(C)','(D)','(O)','(P)','(S)','(T)','(SEPA)',\n",
        "                  '(C),','(D),','(O),','(P),','(S),','(T),','(SEPA),']\n",
        "\n",
        "    # extract the text from the slot text and tokens\n",
        "    all_new_text = []\n",
        "    for text in texts:\n",
        "      try: split_text = text.split()\n",
        "      except: print(text) \n",
        "      new_text = []\n",
        "      for stext in split_text:\n",
        "        if stext not in slot_label:\n",
        "          new_text.append(stext)\n",
        "      join_new_text = \" \".join(new_text)\n",
        "      all_new_text.append(join_new_text)\n",
        "\n",
        "    # write the text into seq.in file for text input to jointBERT model\n",
        "    with open(file_name, 'w') as f:\n",
        "        for item in all_new_text:\n",
        "            f.write(\"%s\\n\" % item)"
      ],
      "execution_count": 5,
      "outputs": []
    },
    {
      "cell_type": "code",
      "metadata": {
        "id": "vjvuGfNQdcmh"
      },
      "source": [
        "# create input files for the train set\n",
        "!mkdir datasets/conda/train\n",
        "create_input_file(conda_train, 'slotTokens', 'datasets/conda/train/seq.in')\n",
        "create_input_file(conda_train, 'slotClasses', 'datasets/conda/train/seq.out')\n",
        "create_input_file(conda_train, 'intentClass', 'datasets/conda/train/label')"
      ],
      "execution_count": 7,
      "outputs": []
    },
    {
      "cell_type": "code",
      "metadata": {
        "id": "_39WJVHsdco0"
      },
      "source": [
        "# create input files for the val set\n",
        "!mkdir datasets/conda/val\n",
        "create_input_file(conda_val, 'slotTokens', 'datasets/conda/val/seq.in')\n",
        "create_input_file(conda_val, 'slotClasses', 'datasets/conda/val/seq.out')\n",
        "create_input_file(conda_val, 'intentClass', 'datasets/conda/val/label')"
      ],
      "execution_count": 8,
      "outputs": []
    },
    {
      "cell_type": "code",
      "metadata": {
        "id": "Vhbu5U_9dPdA"
      },
      "source": [
        "# create input files for the test set (there is no slot/intent labels for the test set)\n",
        "!mkdir datasets/conda/test\n",
        "create_input_file(conda_test, 'utterance', 'datasets/conda/test/sample_pred_in.txt')"
      ],
      "execution_count": 9,
      "outputs": []
    },
    {
      "cell_type": "code",
      "metadata": {
        "id": "O98bSWDIOWAH"
      },
      "source": [
        "# create a function to convert the conda dataset into jointBERT input\n",
        "def create_input_file2(data, column):\n",
        "    # create a list of the slot text and tokens\n",
        "    texts = list(data[column])\n",
        "\n",
        "    # create a list of slot labels\n",
        "    slot_label = ['(C)','(D)','(O)','(P)','(S)','(T)','(SEPA)',\n",
        "                  '(C),','(D),','(O),','(P),','(S),','(T),','(SEPA),']\n",
        "\n",
        "    # extract the text from the slot text and tokens\n",
        "    all_new_text = []\n",
        "    for text in texts:\n",
        "      try: split_text = text.split()\n",
        "      except: print(text) \n",
        "      new_text = []\n",
        "      for stext in split_text:\n",
        "        if stext not in slot_label:\n",
        "          new_text.append(stext)\n",
        "      join_new_text = \" \".join(new_text)\n",
        "      all_new_text.append(join_new_text)\n",
        "    \n",
        "    return all_new_text"
      ],
      "execution_count": 6,
      "outputs": []
    },
    {
      "cell_type": "code",
      "metadata": {
        "colab": {
          "base_uri": "https://localhost:8080/"
        },
        "id": "bqmInn4xOWCi",
        "outputId": "92479d62-8154-4bad-e6b1-672ba9fb1268"
      },
      "source": [
        "train_text = create_input_file2(conda_train, 'slotTokens')\n",
        "train_text = ['BOS ' + text + ' EOS\\t' for text in train_text]\n",
        "train_text[:5]"
      ],
      "execution_count": 40,
      "outputs": [
        {
          "output_type": "execute_result",
          "data": {
            "text/plain": [
              "['BOS wow EOS\\t',\n",
              " 'BOS WTF EOS\\t',\n",
              " 'BOS wpe wpe EOS\\t',\n",
              " 'BOS hahaha EOS\\t',\n",
              " 'BOS wtf EOS\\t']"
            ]
          },
          "metadata": {
            "tags": []
          },
          "execution_count": 40
        }
      ]
    },
    {
      "cell_type": "code",
      "metadata": {
        "colab": {
          "base_uri": "https://localhost:8080/"
        },
        "id": "mgBEzXcsOWE5",
        "outputId": "5e1276af-00f8-4803-aeb8-5986bd5b29fe"
      },
      "source": [
        "train_slot = create_input_file2(conda_train, 'slotClasses')\n",
        "train_slot[:5]"
      ],
      "execution_count": 41,
      "outputs": [
        {
          "output_type": "execute_result",
          "data": {
            "text/plain": [
              "['O', 'T', 'O O', 'O', 'T']"
            ]
          },
          "metadata": {
            "tags": []
          },
          "execution_count": 41
        }
      ]
    },
    {
      "cell_type": "code",
      "metadata": {
        "colab": {
          "base_uri": "https://localhost:8080/"
        },
        "id": "k3ZMOztZOWHX",
        "outputId": "ee857f48-7244-4750-ab86-e22764b40f98"
      },
      "source": [
        "train_label = create_input_file2(conda_train, 'intentClass')\n",
        "train_label[:5]"
      ],
      "execution_count": 42,
      "outputs": [
        {
          "output_type": "execute_result",
          "data": {
            "text/plain": [
              "['O', 'O', 'O', 'O', 'O']"
            ]
          },
          "metadata": {
            "tags": []
          },
          "execution_count": 42
        }
      ]
    },
    {
      "cell_type": "code",
      "metadata": {
        "colab": {
          "base_uri": "https://localhost:8080/"
        },
        "id": "fLLav7DfOWJt",
        "outputId": "53002d42-5ede-4b8d-d4b4-fcff6acbc911"
      },
      "source": [
        "result = list(zip(train_text, train_slot))\n",
        "result = [\"\".join(text) for text in result]\n",
        "result[:5]"
      ],
      "execution_count": 43,
      "outputs": [
        {
          "output_type": "execute_result",
          "data": {
            "text/plain": [
              "['BOS wow EOS\\tO',\n",
              " 'BOS WTF EOS\\tT',\n",
              " 'BOS wpe wpe EOS\\tO O',\n",
              " 'BOS hahaha EOS\\tO',\n",
              " 'BOS wtf EOS\\tT']"
            ]
          },
          "metadata": {
            "tags": []
          },
          "execution_count": 43
        }
      ]
    },
    {
      "cell_type": "code",
      "metadata": {
        "colab": {
          "base_uri": "https://localhost:8080/"
        },
        "id": "ydm8GxrLPNOT",
        "outputId": "b3317dd9-0f4f-4979-f6b2-d696a2f4d4f6"
      },
      "source": [
        "result_w_intent = list(zip(result, train_label))\n",
        "result_w_intent = [\" \".join(text) for text in result_w_intent]\n",
        "result_w_intent[:5]"
      ],
      "execution_count": 44,
      "outputs": [
        {
          "output_type": "execute_result",
          "data": {
            "text/plain": [
              "['BOS wow EOS\\tO O',\n",
              " 'BOS WTF EOS\\tT O',\n",
              " 'BOS wpe wpe EOS\\tO O O',\n",
              " 'BOS hahaha EOS\\tO O',\n",
              " 'BOS wtf EOS\\tT O']"
            ]
          },
          "metadata": {
            "tags": []
          },
          "execution_count": 44
        }
      ]
    },
    {
      "cell_type": "code",
      "metadata": {
        "id": "Bgg7S9CZPvKX"
      },
      "source": [
        "with open('datasets/conda/conda.train.w-intent.iob', 'w') as f:\n",
        "  for item in result_w_intent:\n",
        "    f.write(\"%s\\n\" % item)\n",
        "\n",
        "with open('datasets/conda/conda.train.iob', 'w') as f:\n",
        "  for item in result:\n",
        "    f.write(\"%s\\n\" % item)"
      ],
      "execution_count": 45,
      "outputs": []
    },
    {
      "cell_type": "code",
      "metadata": {
        "id": "bxQPbwxgUMZ0"
      },
      "source": [
        "val_text = create_input_file2(conda_val, 'slotTokens')\n",
        "val_text = ['BOS ' + text + ' EOS\\t' for text in val_text]\n",
        "val_slot = create_input_file2(conda_val, 'slotClasses')\n",
        "val_label = create_input_file2(conda_val, 'intentClass')\n",
        "\n",
        "result = list(zip(val_text, val_slot))\n",
        "result = [\"\".join(text) for text in result]\n",
        "result_w_intent = list(zip(result, val_label))\n",
        "result_w_intent = [\" \".join(text) for text in result_w_intent]\n",
        "\n",
        "with open('datasets/conda/conda.dev.w-intent.iob', 'w') as f:\n",
        "  for item in result_w_intent:\n",
        "    f.write(\"%s\\n\" % item)\n",
        "\n",
        "with open('datasets/conda/conda.dev.iob', 'w') as f:\n",
        "  for item in result:\n",
        "    f.write(\"%s\\n\" % item)"
      ],
      "execution_count": 46,
      "outputs": []
    },
    {
      "cell_type": "markdown",
      "metadata": {
        "id": "vbMiKaJrJ9Cj"
      },
      "source": [
        "##LOW"
      ]
    },
    {
      "cell_type": "code",
      "metadata": {
        "id": "Z83gUOgAKARx"
      },
      "source": [
        "# Code to download file into Colaboratory:\n",
        "!pip install -U -q PyDrive\n",
        "from pydrive.auth import GoogleAuth\n",
        "from pydrive.drive import GoogleDrive\n",
        "from google.colab import auth\n",
        "from oauth2client.client import GoogleCredentials\n",
        "\n",
        "# Authenticate and create the PyDrive client.\n",
        "auth.authenticate_user()\n",
        "gauth = GoogleAuth()\n",
        "gauth.credentials = GoogleCredentials.get_application_default()\n",
        "drive = GoogleDrive(gauth)\n",
        "\n",
        "# download the low dataset\n",
        "!mkdir datasets/low\n",
        "\n",
        "# train\n",
        "id = '1-CnkX1f_OiAYq5LLc7W_Bxs2hO3aNBgy'\n",
        "downloaded = drive.CreateFile({'id':id}) \n",
        "downloaded.GetContentFile('datasets/low/train.csv')\n",
        "\n",
        "# train label\n",
        "id = '1-C8mhh9wbiHzAKodKKH3FKUOydqfAv9K'\n",
        "downloaded = drive.CreateFile({'id':id}) \n",
        "downloaded.GetContentFile('datasets/low/train_label.csv')\n",
        "\n",
        "# val\n",
        "id = '1-Cc6X5tMm6FpH1PsQWv_pZYqDbZ_GpCe'\n",
        "downloaded = drive.CreateFile({'id':id}) \n",
        "downloaded.GetContentFile('datasets/low/val.csv')\n",
        "\n",
        "# val label\n",
        "id = '1-1PuElSAl1dcJJxdB1cs2KvNf35NnaSc'\n",
        "downloaded = drive.CreateFile({'id':id}) \n",
        "downloaded.GetContentFile('datasets/low/val_label.csv')\n",
        "\n",
        "# test\n",
        "id = '1-Cl6P0nOJRErw0BmzQ_OLWPTcbCczFMo'\n",
        "downloaded = drive.CreateFile({'id':id}) \n",
        "downloaded.GetContentFile('datasets/low/test.csv')\n",
        "\n",
        "# test label\n",
        "id = '1-40KJhMjrv7Yxkk-A6NYEMkbPl9sjv_4'\n",
        "downloaded = drive.CreateFile({'id':id}) \n",
        "downloaded.GetContentFile('datasets/low/test_label.csv')"
      ],
      "execution_count": 18,
      "outputs": []
    },
    {
      "cell_type": "code",
      "metadata": {
        "id": "-5LPnj1qKjKI"
      },
      "source": [
        "import pandas as pd\n",
        "\n",
        "# import the dataset into pandas dataframe\n",
        "train_text = pd.read_csv('datasets/low/train.csv', index_col=0)\n",
        "train_label = pd.read_csv('datasets/low/train_label.csv', index_col=0)\n",
        "val_text = pd.read_csv('datasets/low/val.csv', index_col=0)\n",
        "val_label = pd.read_csv('datasets/low/val_label.csv', index_col=0)\n",
        "test_text = pd.read_csv('datasets/low/test.csv', index_col=0)\n",
        "test_label = pd.read_csv('datasets/low/test_label.csv', index_col=0)"
      ],
      "execution_count": 48,
      "outputs": []
    },
    {
      "cell_type": "code",
      "metadata": {
        "colab": {
          "base_uri": "https://localhost:8080/",
          "height": 206
        },
        "id": "Htm945N8KjMt",
        "outputId": "fd69e031-3c22-42fe-dfd7-aaec3907e8c2"
      },
      "source": [
        "train_text.head()"
      ],
      "execution_count": 49,
      "outputs": [
        {
          "output_type": "execute_result",
          "data": {
            "text/html": [
              "<div>\n",
              "<style scoped>\n",
              "    .dataframe tbody tr th:only-of-type {\n",
              "        vertical-align: middle;\n",
              "    }\n",
              "\n",
              "    .dataframe tbody tr th {\n",
              "        vertical-align: top;\n",
              "    }\n",
              "\n",
              "    .dataframe thead th {\n",
              "        text-align: right;\n",
              "    }\n",
              "</style>\n",
              "<table border=\"1\" class=\"dataframe\">\n",
              "  <thead>\n",
              "    <tr style=\"text-align: right;\">\n",
              "      <th></th>\n",
              "      <th>0</th>\n",
              "      <th>1</th>\n",
              "      <th>2</th>\n",
              "      <th>3</th>\n",
              "      <th>4</th>\n",
              "      <th>5</th>\n",
              "      <th>6</th>\n",
              "      <th>7</th>\n",
              "      <th>8</th>\n",
              "      <th>9</th>\n",
              "      <th>10</th>\n",
              "      <th>Unnamed: 12</th>\n",
              "    </tr>\n",
              "  </thead>\n",
              "  <tbody>\n",
              "    <tr>\n",
              "      <th>13430</th>\n",
              "      <td>89498</td>\n",
              "      <td>nothinh come :D</td>\n",
              "      <td>enemy</td>\n",
              "      <td>00:07:29</td>\n",
              "      <td>8</td>\n",
              "      <td>2.0</td>\n",
              "      <td>0.0</td>\n",
              "      <td>Negative Attitude</td>\n",
              "      <td>1423.0</td>\n",
              "      <td>Nasus</td>\n",
              "      <td>O O O</td>\n",
              "      <td>NaN</td>\n",
              "    </tr>\n",
              "    <tr>\n",
              "      <th>28658</th>\n",
              "      <td>191675</td>\n",
              "      <td>malph, would you gank bot?</td>\n",
              "      <td>enemy</td>\n",
              "      <td>00:08:58</td>\n",
              "      <td>4</td>\n",
              "      <td>1.0</td>\n",
              "      <td>0.0</td>\n",
              "      <td>Offensive Language</td>\n",
              "      <td>1973.0</td>\n",
              "      <td>Caitlyn</td>\n",
              "      <td>O O P S O</td>\n",
              "      <td>NaN</td>\n",
              "    </tr>\n",
              "    <tr>\n",
              "      <th>20418</th>\n",
              "      <td>135440</td>\n",
              "      <td>no flame just rage</td>\n",
              "      <td>offender</td>\n",
              "      <td>00:07:55</td>\n",
              "      <td>7</td>\n",
              "      <td>2.0</td>\n",
              "      <td>1.0</td>\n",
              "      <td>Verbal Abuse</td>\n",
              "      <td>1666.0</td>\n",
              "      <td>Gragas</td>\n",
              "      <td>O O O O</td>\n",
              "      <td>NaN</td>\n",
              "    </tr>\n",
              "    <tr>\n",
              "      <th>19964</th>\n",
              "      <td>133016</td>\n",
              "      <td>i do</td>\n",
              "      <td>enemy</td>\n",
              "      <td>00:35:16</td>\n",
              "      <td>7</td>\n",
              "      <td>2.0</td>\n",
              "      <td>0.0</td>\n",
              "      <td>Negative Attitude</td>\n",
              "      <td>1654.0</td>\n",
              "      <td>Warwick</td>\n",
              "      <td>P O</td>\n",
              "      <td>NaN</td>\n",
              "    </tr>\n",
              "    <tr>\n",
              "      <th>4446</th>\n",
              "      <td>22364</td>\n",
              "      <td>no mana :/</td>\n",
              "      <td>enemy</td>\n",
              "      <td>00:07:08</td>\n",
              "      <td>6</td>\n",
              "      <td>0.0</td>\n",
              "      <td>2.0</td>\n",
              "      <td>Negative Attitude</td>\n",
              "      <td>107.0</td>\n",
              "      <td>Ezreal</td>\n",
              "      <td>O S O</td>\n",
              "      <td>NaN</td>\n",
              "    </tr>\n",
              "  </tbody>\n",
              "</table>\n",
              "</div>"
            ],
            "text/plain": [
              "            0                            1  ...         10 Unnamed: 12\n",
              "13430   89498              nothinh come :D  ...      O O O         NaN\n",
              "28658  191675   malph, would you gank bot?  ...  O O P S O         NaN\n",
              "20418  135440           no flame just rage  ...    O O O O         NaN\n",
              "19964  133016                         i do  ...        P O         NaN\n",
              "4446    22364                   no mana :/  ...      O S O         NaN\n",
              "\n",
              "[5 rows x 12 columns]"
            ]
          },
          "metadata": {
            "tags": []
          },
          "execution_count": 49
        }
      ]
    },
    {
      "cell_type": "code",
      "metadata": {
        "colab": {
          "base_uri": "https://localhost:8080/",
          "height": 206
        },
        "id": "7mh-Vh2wKjPA",
        "outputId": "30211313-2ac3-4e66-d526-d4f440680156"
      },
      "source": [
        "train_label.head()"
      ],
      "execution_count": 50,
      "outputs": [
        {
          "output_type": "execute_result",
          "data": {
            "text/html": [
              "<div>\n",
              "<style scoped>\n",
              "    .dataframe tbody tr th:only-of-type {\n",
              "        vertical-align: middle;\n",
              "    }\n",
              "\n",
              "    .dataframe tbody tr th {\n",
              "        vertical-align: top;\n",
              "    }\n",
              "\n",
              "    .dataframe thead th {\n",
              "        text-align: right;\n",
              "    }\n",
              "</style>\n",
              "<table border=\"1\" class=\"dataframe\">\n",
              "  <thead>\n",
              "    <tr style=\"text-align: right;\">\n",
              "      <th></th>\n",
              "      <th>Label</th>\n",
              "    </tr>\n",
              "  </thead>\n",
              "  <tbody>\n",
              "    <tr>\n",
              "      <th>13430</th>\n",
              "      <td>O</td>\n",
              "    </tr>\n",
              "    <tr>\n",
              "      <th>28658</th>\n",
              "      <td>O</td>\n",
              "    </tr>\n",
              "    <tr>\n",
              "      <th>20418</th>\n",
              "      <td>A</td>\n",
              "    </tr>\n",
              "    <tr>\n",
              "      <th>19964</th>\n",
              "      <td>O</td>\n",
              "    </tr>\n",
              "    <tr>\n",
              "      <th>4446</th>\n",
              "      <td>O</td>\n",
              "    </tr>\n",
              "  </tbody>\n",
              "</table>\n",
              "</div>"
            ],
            "text/plain": [
              "      Label\n",
              "13430     O\n",
              "28658     O\n",
              "20418     A\n",
              "19964     O\n",
              "4446      O"
            ]
          },
          "metadata": {
            "tags": []
          },
          "execution_count": 50
        }
      ]
    },
    {
      "cell_type": "code",
      "metadata": {
        "colab": {
          "base_uri": "https://localhost:8080/"
        },
        "id": "PCsMajO9KjRR",
        "outputId": "b5405dfb-6fbf-47b1-f77a-d5b294082777"
      },
      "source": [
        "print(train_text.shape)\n",
        "print(train_label.shape)"
      ],
      "execution_count": 51,
      "outputs": [
        {
          "output_type": "stream",
          "text": [
            "(29399, 12)\n",
            "(29399, 1)\n"
          ],
          "name": "stdout"
        }
      ]
    },
    {
      "cell_type": "code",
      "metadata": {
        "colab": {
          "base_uri": "https://localhost:8080/"
        },
        "id": "Y3dIpBZjQDKG",
        "outputId": "247a0095-9196-41ca-fab9-270e72285c9e"
      },
      "source": [
        "# concat the text and the label files\n",
        "train_data = pd.concat([train_text,train_label],axis=1,join='inner')\n",
        "val_data = pd.concat([val_text,val_label],axis=1,join='inner')\n",
        "test_data = pd.concat([test_text,test_label],axis=1,join='inner')\n",
        "\n",
        "# drop the 'Unnamed: 12' column\n",
        "train_data.drop(['Unnamed: 12'], axis=1, inplace=True)\n",
        "val_data.drop(['Unnamed: 12'], axis=1, inplace=True)\n",
        "test_data.drop(['Unnamed: 12'], axis=1, inplace=True)\n",
        "print(train_data.shape)\n",
        "print(val_data.shape)\n",
        "print(test_data.shape)"
      ],
      "execution_count": 52,
      "outputs": [
        {
          "output_type": "stream",
          "text": [
            "(29399, 12)\n",
            "(3267, 12)\n",
            "(3630, 12)\n"
          ],
          "name": "stdout"
        }
      ]
    },
    {
      "cell_type": "code",
      "metadata": {
        "colab": {
          "base_uri": "https://localhost:8080/",
          "height": 206
        },
        "id": "1aNAWThRjB7Q",
        "outputId": "ce510b83-8322-405a-bf5b-8c84f702681a"
      },
      "source": [
        "train_data.head()"
      ],
      "execution_count": 53,
      "outputs": [
        {
          "output_type": "execute_result",
          "data": {
            "text/html": [
              "<div>\n",
              "<style scoped>\n",
              "    .dataframe tbody tr th:only-of-type {\n",
              "        vertical-align: middle;\n",
              "    }\n",
              "\n",
              "    .dataframe tbody tr th {\n",
              "        vertical-align: top;\n",
              "    }\n",
              "\n",
              "    .dataframe thead th {\n",
              "        text-align: right;\n",
              "    }\n",
              "</style>\n",
              "<table border=\"1\" class=\"dataframe\">\n",
              "  <thead>\n",
              "    <tr style=\"text-align: right;\">\n",
              "      <th></th>\n",
              "      <th>0</th>\n",
              "      <th>1</th>\n",
              "      <th>2</th>\n",
              "      <th>3</th>\n",
              "      <th>4</th>\n",
              "      <th>5</th>\n",
              "      <th>6</th>\n",
              "      <th>7</th>\n",
              "      <th>8</th>\n",
              "      <th>9</th>\n",
              "      <th>10</th>\n",
              "      <th>Label</th>\n",
              "    </tr>\n",
              "  </thead>\n",
              "  <tbody>\n",
              "    <tr>\n",
              "      <th>13430</th>\n",
              "      <td>89498</td>\n",
              "      <td>nothinh come :D</td>\n",
              "      <td>enemy</td>\n",
              "      <td>00:07:29</td>\n",
              "      <td>8</td>\n",
              "      <td>2.0</td>\n",
              "      <td>0.0</td>\n",
              "      <td>Negative Attitude</td>\n",
              "      <td>1423.0</td>\n",
              "      <td>Nasus</td>\n",
              "      <td>O O O</td>\n",
              "      <td>O</td>\n",
              "    </tr>\n",
              "    <tr>\n",
              "      <th>28658</th>\n",
              "      <td>191675</td>\n",
              "      <td>malph, would you gank bot?</td>\n",
              "      <td>enemy</td>\n",
              "      <td>00:08:58</td>\n",
              "      <td>4</td>\n",
              "      <td>1.0</td>\n",
              "      <td>0.0</td>\n",
              "      <td>Offensive Language</td>\n",
              "      <td>1973.0</td>\n",
              "      <td>Caitlyn</td>\n",
              "      <td>O O P S O</td>\n",
              "      <td>O</td>\n",
              "    </tr>\n",
              "    <tr>\n",
              "      <th>20418</th>\n",
              "      <td>135440</td>\n",
              "      <td>no flame just rage</td>\n",
              "      <td>offender</td>\n",
              "      <td>00:07:55</td>\n",
              "      <td>7</td>\n",
              "      <td>2.0</td>\n",
              "      <td>1.0</td>\n",
              "      <td>Verbal Abuse</td>\n",
              "      <td>1666.0</td>\n",
              "      <td>Gragas</td>\n",
              "      <td>O O O O</td>\n",
              "      <td>A</td>\n",
              "    </tr>\n",
              "    <tr>\n",
              "      <th>19964</th>\n",
              "      <td>133016</td>\n",
              "      <td>i do</td>\n",
              "      <td>enemy</td>\n",
              "      <td>00:35:16</td>\n",
              "      <td>7</td>\n",
              "      <td>2.0</td>\n",
              "      <td>0.0</td>\n",
              "      <td>Negative Attitude</td>\n",
              "      <td>1654.0</td>\n",
              "      <td>Warwick</td>\n",
              "      <td>P O</td>\n",
              "      <td>O</td>\n",
              "    </tr>\n",
              "    <tr>\n",
              "      <th>4446</th>\n",
              "      <td>22364</td>\n",
              "      <td>no mana :/</td>\n",
              "      <td>enemy</td>\n",
              "      <td>00:07:08</td>\n",
              "      <td>6</td>\n",
              "      <td>0.0</td>\n",
              "      <td>2.0</td>\n",
              "      <td>Negative Attitude</td>\n",
              "      <td>107.0</td>\n",
              "      <td>Ezreal</td>\n",
              "      <td>O S O</td>\n",
              "      <td>O</td>\n",
              "    </tr>\n",
              "  </tbody>\n",
              "</table>\n",
              "</div>"
            ],
            "text/plain": [
              "            0                            1         2  ...        9         10  Label\n",
              "13430   89498              nothinh come :D     enemy  ...    Nasus      O O O      O\n",
              "28658  191675   malph, would you gank bot?     enemy  ...  Caitlyn  O O P S O      O\n",
              "20418  135440           no flame just rage  offender  ...   Gragas    O O O O      A\n",
              "19964  133016                         i do     enemy  ...  Warwick        P O      O\n",
              "4446    22364                   no mana :/     enemy  ...   Ezreal      O S O      O\n",
              "\n",
              "[5 rows x 12 columns]"
            ]
          },
          "metadata": {
            "tags": []
          },
          "execution_count": 53
        }
      ]
    },
    {
      "cell_type": "code",
      "metadata": {
        "colab": {
          "base_uri": "https://localhost:8080/"
        },
        "id": "VI1-60cijRi3",
        "outputId": "2e4c89f0-e8bc-4d7b-d94f-d9636e472cdc"
      },
      "source": [
        "# check for any null items\n",
        "print(\"train set:\")\n",
        "print(train_data.isnull().sum())\n",
        "print(\"\\nval set:\")\n",
        "print(val_data.isnull().sum())\n",
        "print(\"\\ntest set:\")\n",
        "print(test_data.isnull().sum())"
      ],
      "execution_count": 54,
      "outputs": [
        {
          "output_type": "stream",
          "text": [
            "train set:\n",
            "0         0\n",
            "1        14\n",
            "2         0\n",
            "3         0\n",
            "4         0\n",
            "5         1\n",
            "6         1\n",
            "7         1\n",
            "8         1\n",
            "9         1\n",
            "10        1\n",
            "Label     1\n",
            "dtype: int64\n",
            "\n",
            "val set:\n",
            "0        0\n",
            "1        5\n",
            "2        0\n",
            "3        0\n",
            "4        0\n",
            "5        0\n",
            "6        0\n",
            "7        0\n",
            "8        0\n",
            "9        0\n",
            "10       0\n",
            "Label    0\n",
            "dtype: int64\n",
            "\n",
            "test set:\n",
            "0        0\n",
            "1        0\n",
            "2        0\n",
            "3        0\n",
            "4        0\n",
            "5        0\n",
            "6        0\n",
            "7        0\n",
            "8        0\n",
            "9        0\n",
            "10       0\n",
            "Label    0\n",
            "dtype: int64\n"
          ],
          "name": "stdout"
        }
      ]
    },
    {
      "cell_type": "code",
      "metadata": {
        "colab": {
          "base_uri": "https://localhost:8080/"
        },
        "id": "RIF121EMRGzB",
        "outputId": "f1397fde-b974-4465-8e2d-ceb9ecfb844a"
      },
      "source": [
        "# remove rows with nan values\n",
        "train_data.dropna(inplace=True)\n",
        "val_data.dropna(inplace=True)\n",
        "print(\"train set:\")\n",
        "print(train_data.isnull().sum())\n",
        "print(\"\\nval set:\")\n",
        "print(val_data.isnull().sum())"
      ],
      "execution_count": 55,
      "outputs": [
        {
          "output_type": "stream",
          "text": [
            "train set:\n",
            "0        0\n",
            "1        0\n",
            "2        0\n",
            "3        0\n",
            "4        0\n",
            "5        0\n",
            "6        0\n",
            "7        0\n",
            "8        0\n",
            "9        0\n",
            "10       0\n",
            "Label    0\n",
            "dtype: int64\n",
            "\n",
            "val set:\n",
            "0        0\n",
            "1        0\n",
            "2        0\n",
            "3        0\n",
            "4        0\n",
            "5        0\n",
            "6        0\n",
            "7        0\n",
            "8        0\n",
            "9        0\n",
            "10       0\n",
            "Label    0\n",
            "dtype: int64\n"
          ],
          "name": "stdout"
        }
      ]
    },
    {
      "cell_type": "code",
      "metadata": {
        "id": "dUf3xjMNUjb1"
      },
      "source": [
        "# delete texts that contain '#ERROR!'\n",
        "train_data.drop(train_data['1'][train_data['1']=='#ERROR!'].index, inplace=True)\n",
        "val_data.drop(val_data['1'][val_data['1']=='#ERROR!'].index, inplace=True)\n",
        "test_data.drop(test_data['1'][test_data['1']=='#ERROR!'].index, inplace=True)"
      ],
      "execution_count": 56,
      "outputs": []
    },
    {
      "cell_type": "code",
      "metadata": {
        "colab": {
          "base_uri": "https://localhost:8080/"
        },
        "id": "rE8muRJwQDRm",
        "outputId": "ff2d09ca-be6b-4ff0-e08c-b37ad84b5a71"
      },
      "source": [
        "# check the intent labels\n",
        "print(set(train_data['Label']))\n",
        "print(set(val_data['Label']))\n",
        "print(set(test_data['Label']))"
      ],
      "execution_count": 57,
      "outputs": [
        {
          "output_type": "stream",
          "text": [
            "{'I ', 'E', 'I', 'O', 'A'}\n",
            "{'T', 'E', 'I', 'O', 'A'}\n",
            "{'A', 'E', 'O', 'I'}\n"
          ],
          "name": "stdout"
        }
      ]
    },
    {
      "cell_type": "code",
      "metadata": {
        "id": "-FChsEgyVFwl"
      },
      "source": [
        "# remove the val data with 'T' intent label\n",
        "val_data.drop(val_data['Label'][val_data['Label']=='T'].index, inplace=True)"
      ],
      "execution_count": 58,
      "outputs": []
    },
    {
      "cell_type": "code",
      "metadata": {
        "colab": {
          "base_uri": "https://localhost:8080/"
        },
        "id": "RuNk7it7QDUA",
        "outputId": "087562d4-c761-45ea-eab1-fe1996a443ef"
      },
      "source": [
        "# 'I' and 'I ' intent labels in train set should be the same as 'I'\n",
        "labels = [label.strip().upper() for label in list(train_data['Label'])]\n",
        "train_data['Label']=labels\n",
        "print(set(train_data['Label']))\n",
        "print(set(val_data['Label']))\n",
        "print(set(test_data['Label']))"
      ],
      "execution_count": 59,
      "outputs": [
        {
          "output_type": "stream",
          "text": [
            "{'A', 'E', 'O', 'I'}\n",
            "{'A', 'E', 'O', 'I'}\n",
            "{'A', 'E', 'O', 'I'}\n"
          ],
          "name": "stdout"
        }
      ]
    },
    {
      "cell_type": "code",
      "metadata": {
        "colab": {
          "base_uri": "https://localhost:8080/"
        },
        "id": "rnF-ftD4VYNQ",
        "outputId": "8dbeb4b1-9128-4c2c-e108-0f0c91e1c9ac"
      },
      "source": [
        "print(train_data.shape)\n",
        "print(val_data.shape)\n",
        "print(test_data.shape)"
      ],
      "execution_count": 60,
      "outputs": [
        {
          "output_type": "stream",
          "text": [
            "(29370, 12)\n",
            "(3259, 12)\n",
            "(3630, 12)\n"
          ],
          "name": "stdout"
        }
      ]
    },
    {
      "cell_type": "code",
      "metadata": {
        "id": "kocot4qak7DC"
      },
      "source": [
        "# create a function to remove rows in which the length of the text != the length of the slot tokens\n",
        "def remove_error(data):\n",
        "    text_slot = list(zip(list(data['1']),list(data['10'])))\n",
        "\n",
        "    to_remove = []\n",
        "    for i, text in enumerate(text_slot):\n",
        "      if len(str(text[0]).split())!=len(text[1].split()):\n",
        "        to_remove.append(i)\n",
        "        print(\"index:\",i)\n",
        "        print(\"text:\",text[0])\n",
        "        print(\"slot label:\",text[1])\n",
        "\n",
        "    to_remove_index = [data.iloc[[n]].index[0] for n in to_remove]\n",
        "    data.drop(to_remove_index, inplace=True)\n",
        "    print(data.shape)"
      ],
      "execution_count": 61,
      "outputs": []
    },
    {
      "cell_type": "code",
      "metadata": {
        "colab": {
          "base_uri": "https://localhost:8080/"
        },
        "id": "dOrrOUOJk7FY",
        "outputId": "e5f2360f-15cd-4038-ddcf-05e6c447827b"
      },
      "source": [
        "# remove rows in train set \n",
        "remove_error(train_data)"
      ],
      "execution_count": 62,
      "outputs": [
        {
          "output_type": "stream",
          "text": [
            "index: 3301\n",
            "text:  ''''''''''''' ' ' ' ' ' ' ' ' ' ' ' ' ' ' ' ' ' ' ' ' ' ' ' ' ' ' ' ' ' ' ' ' ' ' ' ' ' ' ' ' ' ' ' ' ' ' ' ' ' ' ' ' ' ' ' ' ' ' ' 'p dfd\n",
            "slot label: O O O O O O O O O O O O O O O O O O O O O O O O O O O O O O O O O O O O O O O O O O O O O O O O O O O O O O O O O O O O O O O\n",
            "index: 11968\n",
            "text:  ' '\n",
            "slot label: O O O\n",
            "index: 12918\n",
            "text:  '\n",
            "slot label: O O\n",
            "index: 13366\n",
            "text:  '\n",
            "slot label: O O\n",
            "index: 15245\n",
            "text:  what¿?\n",
            "slot label: O O\n",
            "index: 16196\n",
            "text: I\n",
            "slot label: S O\n",
            "index: 18916\n",
            "text: I\n",
            "slot label: S L O O\n",
            "index: 20506\n",
            "text: O\n",
            "slot label: S S\n",
            "index: 20547\n",
            "text:  ' ' ' ' ' ' '\n",
            "slot label: O O O O O O O O\n",
            "index: 26000\n",
            "text: I\n",
            "slot label: O P O L\n",
            "index: 27479\n",
            "text: E\n",
            "slot label: O S L S\n",
            "index: 27966\n",
            "text: I\n",
            "slot label: O O O O P S O L S S O\n",
            "(29358, 12)\n"
          ],
          "name": "stdout"
        }
      ]
    },
    {
      "cell_type": "code",
      "metadata": {
        "colab": {
          "base_uri": "https://localhost:8080/"
        },
        "id": "h8ewHqZ4k7IJ",
        "outputId": "6dcce9e2-3ee8-4605-da22-1f4587d82dd9"
      },
      "source": [
        "# remove rows in val set \n",
        "remove_error(val_data)"
      ],
      "execution_count": 63,
      "outputs": [
        {
          "output_type": "stream",
          "text": [
            "index: 1458\n",
            "text: I\n",
            "slot label: O O\n",
            "(3258, 12)\n"
          ],
          "name": "stdout"
        }
      ]
    },
    {
      "cell_type": "code",
      "metadata": {
        "colab": {
          "base_uri": "https://localhost:8080/"
        },
        "id": "777IQjvlmWba",
        "outputId": "33d83986-7716-4f17-8a2c-da380b81c2be"
      },
      "source": [
        "# remove rows in test set \n",
        "remove_error(test_data)"
      ],
      "execution_count": 64,
      "outputs": [
        {
          "output_type": "stream",
          "text": [
            "index: 1815\n",
            "text:  ' '\n",
            "slot label: O O O\n",
            "index: 2164\n",
            "text:  ' '\n",
            "slot label: O O O\n",
            "(3628, 12)\n"
          ],
          "name": "stdout"
        }
      ]
    },
    {
      "cell_type": "code",
      "metadata": {
        "colab": {
          "base_uri": "https://localhost:8080/"
        },
        "id": "9ew9ewczWqWA",
        "outputId": "e5683867-9d7b-43e0-9959-e63ac90fafd9"
      },
      "source": [
        "# check the proportion of intent labels in the dataset\n",
        "print(\"train E:\",train_data[train_data['Label']=='E']['Label'].count()/train_data.shape[0])\n",
        "print(\"train I:\",train_data[train_data['Label']=='I']['Label'].count()/train_data.shape[0])\n",
        "print(\"train A:\",train_data[train_data['Label']=='A']['Label'].count()/train_data.shape[0])\n",
        "print(\"train O:\",train_data[train_data['Label']=='O']['Label'].count()/train_data.shape[0])\n",
        "print(\"train_data length:\",train_data.shape[0])\n",
        "print()\n",
        "print(\"val E:\",val_data[val_data['Label']=='E']['Label'].count()/val_data.shape[0])\n",
        "print(\"val I:\",val_data[val_data['Label']=='I']['Label'].count()/val_data.shape[0])\n",
        "print(\"val A:\",val_data[val_data['Label']=='A']['Label'].count()/val_data.shape[0])\n",
        "print(\"val O:\",val_data[val_data['Label']=='O']['Label'].count()/val_data.shape[0])\n",
        "print(\"val_data length:\",val_data.shape[0])\n",
        "print()\n",
        "print(\"test E:\",test_data[test_data['Label']=='E']['Label'].count()/test_data.shape[0])\n",
        "print(\"test I:\",test_data[test_data['Label']=='I']['Label'].count()/test_data.shape[0])\n",
        "print(\"test A:\",test_data[test_data['Label']=='A']['Label'].count()/test_data.shape[0])\n",
        "print(\"test O:\",test_data[test_data['Label']=='O']['Label'].count()/test_data.shape[0])\n",
        "print(\"test_data length:\",test_data.shape[0])"
      ],
      "execution_count": 65,
      "outputs": [
        {
          "output_type": "stream",
          "text": [
            "train E: 0.06727297499829689\n",
            "train I: 0.00991211935417944\n",
            "train A: 0.02503576537911302\n",
            "train O: 0.8977791402684107\n",
            "train_data length: 29358\n",
            "\n",
            "val E: 0.08011049723756906\n",
            "val I: 0.008287292817679558\n",
            "val A: 0.027317372621240024\n",
            "val O: 0.8842848373235114\n",
            "val_data length: 3258\n",
            "\n",
            "test E: 0.06560088202866593\n",
            "test I: 0.009095920617420067\n",
            "test A: 0.027839029768467475\n",
            "test O: 0.8974641675854466\n",
            "test_data length: 3628\n"
          ],
          "name": "stdout"
        }
      ]
    },
    {
      "cell_type": "code",
      "metadata": {
        "id": "GKOMKcYRaTMp"
      },
      "source": [
        "# create a function to convert the low dataset into jointBERT input\n",
        "def create_input(data,set):\n",
        "    seq_in = list(data['1'])\n",
        "    with open('datasets/low/'+set+'/seq.in', 'w') as f:\n",
        "        for item in seq_in:\n",
        "            f.write(\"%s\\n\" % item)\n",
        "\n",
        "    seq_out = list(data['10'])\n",
        "    with open('datasets/low/'+set+'/seq.out', 'w') as f:\n",
        "        for item in seq_out:\n",
        "            f.write(\"%s\\n\" % item)\n",
        "\n",
        "    label = list(data['Label'])\n",
        "    with open('datasets/low/'+set+'/label', 'w') as f:\n",
        "        for item in label:\n",
        "            f.write(\"%s\\n\" % item)"
      ],
      "execution_count": 38,
      "outputs": []
    },
    {
      "cell_type": "code",
      "metadata": {
        "id": "K56M0ZZvmq3M"
      },
      "source": [
        "# create the directory\n",
        "!mkdir datasets/low/train\n",
        "!mkdir datasets/low/val\n",
        "!mkdir datasets/low/test\n",
        "\n",
        "# create the input files for jointBERT\n",
        "create_input(train_data,'train')\n",
        "create_input(val_data,'val')\n",
        "create_input(test_data,'test')"
      ],
      "execution_count": 39,
      "outputs": []
    },
    {
      "cell_type": "code",
      "metadata": {
        "id": "IJ--28FqXKbi"
      },
      "source": [
        "data = train_data\n",
        "seq_in = list(data['1'])\n",
        "seq_out = list(data['10'])\n",
        "label = list(data['Label'])\n",
        "seq_in = ['BOS ' + text + ' EOS\\t' for text in seq_in]\n",
        "result = list(zip(seq_in, seq_out))\n",
        "result = [\"\".join(text) for text in result]\n",
        "result_w_intent = list(zip(result, label))\n",
        "result_w_intent = [\" \".join(text) for text in result_w_intent]\n",
        "\n",
        "with open('datasets/low/low.train.w-intent.iob', 'w') as f:\n",
        "  for item in result_w_intent:\n",
        "    f.write(\"%s\\n\" % item)\n",
        "\n",
        "with open('datasets/low/low.train.iob', 'w') as f:\n",
        "  for item in result:\n",
        "    f.write(\"%s\\n\" % item)"
      ],
      "execution_count": 66,
      "outputs": []
    },
    {
      "cell_type": "code",
      "metadata": {
        "id": "oT157LBzXKnG"
      },
      "source": [
        "data = val_data\n",
        "seq_in = list(data['1'])\n",
        "seq_out = list(data['10'])\n",
        "label = list(data['Label'])\n",
        "seq_in = ['BOS ' + text + ' EOS\\t' for text in seq_in]\n",
        "result = list(zip(seq_in, seq_out))\n",
        "result = [\"\".join(text) for text in result]\n",
        "result_w_intent = list(zip(result, label))\n",
        "result_w_intent = [\" \".join(text) for text in result_w_intent]\n",
        "\n",
        "with open('datasets/low/low.dev.w-intent.iob', 'w') as f:\n",
        "  for item in result_w_intent:\n",
        "    f.write(\"%s\\n\" % item)\n",
        "\n",
        "with open('datasets/low/low.dev.iob', 'w') as f:\n",
        "  for item in result:\n",
        "    f.write(\"%s\\n\" % item)"
      ],
      "execution_count": 67,
      "outputs": []
    },
    {
      "cell_type": "code",
      "metadata": {
        "id": "ABjTqGXHXKqL"
      },
      "source": [
        "data = test_data\n",
        "seq_in = list(data['1'])\n",
        "seq_out = list(data['10'])\n",
        "label = list(data['Label'])\n",
        "seq_in = ['BOS ' + text + ' EOS\\t' for text in seq_in]\n",
        "result = list(zip(seq_in, seq_out))\n",
        "result = [\"\".join(text) for text in result]\n",
        "result_w_intent = list(zip(result, label))\n",
        "result_w_intent = [\" \".join(text) for text in result_w_intent]\n",
        "\n",
        "with open('datasets/low/low.test.w-intent.iob', 'w') as f:\n",
        "  for item in result_w_intent:\n",
        "    f.write(\"%s\\n\" % item)\n",
        "\n",
        "with open('datasets/low/low.test.iob', 'w') as f:\n",
        "  for item in result:\n",
        "    f.write(\"%s\\n\" % item)"
      ],
      "execution_count": 68,
      "outputs": []
    },
    {
      "cell_type": "code",
      "metadata": {
        "id": "s31-86Z-9RTW"
      },
      "source": [
        ""
      ],
      "execution_count": null,
      "outputs": []
    }
  ]
}